{
 "cells": [
  {
   "cell_type": "code",
   "execution_count": 0,
   "metadata": {
    "application/vnd.databricks.v1+cell": {
     "cellMetadata": {
      "byteLimit": 2048000,
      "rowLimit": 10000
     },
     "inputWidgets": {},
     "nuid": "c1ab97d5-13c7-4bd9-8fc3-ffd69d314a18",
     "showTitle": false,
     "tableResultSettingsMap": {},
     "title": ""
    }
   },
   "outputs": [],
   "source": [
    "pip install azure-storage-file-datalake azure-identity"
   ]
  },
  {
   "cell_type": "code",
   "execution_count": 0,
   "metadata": {
    "application/vnd.databricks.v1+cell": {
     "cellMetadata": {
      "byteLimit": 2048000,
      "rowLimit": 10000
     },
     "inputWidgets": {},
     "nuid": "95046752-0880-4e4a-aeda-24bb3844b955",
     "showTitle": false,
     "tableResultSettingsMap": {},
     "title": ""
    }
   },
   "outputs": [],
   "source": [
    "%restart_python"
   ]
  },
  {
   "cell_type": "code",
   "execution_count": 0,
   "metadata": {
    "application/vnd.databricks.v1+cell": {
     "cellMetadata": {
      "byteLimit": 2048000,
      "rowLimit": 10000
     },
     "inputWidgets": {},
     "nuid": "d5ec93ee-5e90-4645-b6d9-48efb294c073",
     "showTitle": false,
     "tableResultSettingsMap": {},
     "title": ""
    }
   },
   "outputs": [],
   "source": [
    "from azure.storage.filedatalake import DataLakeServiceClient\n",
    "from azure.identity import ClientSecretCredential\n",
    "from io import StringIO, BytesIO\n",
    "import pandas as pd"
   ]
  },
  {
   "cell_type": "code",
   "execution_count": 0,
   "metadata": {
    "application/vnd.databricks.v1+cell": {
     "cellMetadata": {
      "byteLimit": 2048000,
      "rowLimit": 10000
     },
     "inputWidgets": {},
     "nuid": "31c5238e-eeec-4074-9e10-fc3d6ab4eed1",
     "showTitle": false,
     "tableResultSettingsMap": {},
     "title": ""
    }
   },
   "outputs": [],
   "source": [
    "# 1. Substitua os valores abaixo com as suas credenciais do Service Principal\n",
    "client_id = \"\"\n",
    "tenant_id = \"\"\n",
    "client_secret = \"\"\n",
    "\n",
    "storage_account_name = \"internshipanhanguera\"\n",
    "container_name = \"teste-acesso-databricks\"\n",
    "\n",
    "# 2. Crie as credenciais usando ClientSecretCredential\n",
    "credentials = ClientSecretCredential(\n",
    "    tenant_id=tenant_id,\n",
    "    client_id=client_id,\n",
    "    client_secret=client_secret\n",
    ")\n",
    "\n",
    "# 3. Crie o cliente de serviço\n",
    "try:\n",
    "    service_client = DataLakeServiceClient(account_url=f\"https://{storage_account_name}.dfs.core.windows.net\", credential=credentials)\n",
    "    print(\"Conexão estabelecida com sucesso!\")\n",
    "\n",
    "    # 4. Acesse o file system (container)\n",
    "    file_system_client = service_client.get_file_system_client(file_system=container_name)\n",
    "\n",
    "    # 5. Exemplo: Ler um arquivo de texto\n",
    "    file_client = file_system_client.get_file_client(\"patients.csv\")\n",
    "    downloaded_data = file_client.download_file()\n",
    "    downloaded_data_bytes = downloaded_data.readall()\n",
    "\n",
    "    # Converting it to a dataframe\n",
    "    csv_string = downloaded_data_bytes.decode('utf-8')\n",
    "    df = pd.read_csv(StringIO(csv_string))\n",
    "\n",
    "    print(\"File succesfully read!\")\n",
    "\n",
    "except Exception as ex:\n",
    "    print('Ocorreu um erro ao conectar ou ler o arquivo:', ex)"
   ]
  },
  {
   "cell_type": "code",
   "execution_count": 0,
   "metadata": {
    "application/vnd.databricks.v1+cell": {
     "cellMetadata": {
      "byteLimit": 2048000,
      "rowLimit": 10000
     },
     "inputWidgets": {},
     "nuid": "214aaa43-955e-408e-acf1-e0b765b6983d",
     "showTitle": false,
     "tableResultSettingsMap": {},
     "title": ""
    }
   },
   "outputs": [],
   "source": [
    "df.head()"
   ]
  }
 ],
 "metadata": {
  "application/vnd.databricks.v1+notebook": {
   "computePreferences": null,
   "dashboards": [],
   "environmentMetadata": {
    "base_environment": "",
    "environment_version": "3"
   },
   "inputWidgetPreferences": null,
   "language": "python",
   "notebookMetadata": {
    "pythonIndentUnit": 4
   },
   "notebookName": "Untitled Notebook 2025-09-24 20_14_18",
   "widgets": {}
  },
  "language_info": {
   "name": "python"
  }
 },
 "nbformat": 4,
 "nbformat_minor": 0
}
